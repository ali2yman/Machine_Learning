{
 "cells": [
  {
   "cell_type": "code",
   "execution_count": 44,
   "id": "679dbeb6",
   "metadata": {},
   "outputs": [],
   "source": [
    "import numpy as np \n",
    "import pandas as pd "
   ]
  },
  {
   "cell_type": "code",
   "execution_count": 45,
   "id": "53986087",
   "metadata": {},
   "outputs": [],
   "source": [
    "df = pd.read_csv(r\"C:\\Users\\aliay\\OneDrive\\Desktop\\Supervised Learning Foundation\\Machine_Learning\\data\\insurance.csv\")"
   ]
  },
  {
   "cell_type": "code",
   "execution_count": 46,
   "id": "bed63142",
   "metadata": {},
   "outputs": [
    {
     "data": {
      "text/html": [
       "<div>\n",
       "<style scoped>\n",
       "    .dataframe tbody tr th:only-of-type {\n",
       "        vertical-align: middle;\n",
       "    }\n",
       "\n",
       "    .dataframe tbody tr th {\n",
       "        vertical-align: top;\n",
       "    }\n",
       "\n",
       "    .dataframe thead th {\n",
       "        text-align: right;\n",
       "    }\n",
       "</style>\n",
       "<table border=\"1\" class=\"dataframe\">\n",
       "  <thead>\n",
       "    <tr style=\"text-align: right;\">\n",
       "      <th></th>\n",
       "      <th>age</th>\n",
       "      <th>sex</th>\n",
       "      <th>bmi</th>\n",
       "      <th>children</th>\n",
       "      <th>smoker</th>\n",
       "      <th>region</th>\n",
       "      <th>expenses</th>\n",
       "    </tr>\n",
       "  </thead>\n",
       "  <tbody>\n",
       "    <tr>\n",
       "      <th>0</th>\n",
       "      <td>19</td>\n",
       "      <td>female</td>\n",
       "      <td>27.9</td>\n",
       "      <td>0</td>\n",
       "      <td>yes</td>\n",
       "      <td>southwest</td>\n",
       "      <td>16884.92</td>\n",
       "    </tr>\n",
       "    <tr>\n",
       "      <th>1</th>\n",
       "      <td>18</td>\n",
       "      <td>male</td>\n",
       "      <td>33.8</td>\n",
       "      <td>1</td>\n",
       "      <td>no</td>\n",
       "      <td>southeast</td>\n",
       "      <td>1725.55</td>\n",
       "    </tr>\n",
       "    <tr>\n",
       "      <th>2</th>\n",
       "      <td>28</td>\n",
       "      <td>male</td>\n",
       "      <td>33.0</td>\n",
       "      <td>3</td>\n",
       "      <td>no</td>\n",
       "      <td>southeast</td>\n",
       "      <td>4449.46</td>\n",
       "    </tr>\n",
       "    <tr>\n",
       "      <th>3</th>\n",
       "      <td>33</td>\n",
       "      <td>male</td>\n",
       "      <td>22.7</td>\n",
       "      <td>0</td>\n",
       "      <td>no</td>\n",
       "      <td>northwest</td>\n",
       "      <td>21984.47</td>\n",
       "    </tr>\n",
       "    <tr>\n",
       "      <th>4</th>\n",
       "      <td>32</td>\n",
       "      <td>male</td>\n",
       "      <td>28.9</td>\n",
       "      <td>0</td>\n",
       "      <td>no</td>\n",
       "      <td>northwest</td>\n",
       "      <td>3866.86</td>\n",
       "    </tr>\n",
       "  </tbody>\n",
       "</table>\n",
       "</div>"
      ],
      "text/plain": [
       "   age     sex   bmi  children smoker     region  expenses\n",
       "0   19  female  27.9         0    yes  southwest  16884.92\n",
       "1   18    male  33.8         1     no  southeast   1725.55\n",
       "2   28    male  33.0         3     no  southeast   4449.46\n",
       "3   33    male  22.7         0     no  northwest  21984.47\n",
       "4   32    male  28.9         0     no  northwest   3866.86"
      ]
     },
     "execution_count": 46,
     "metadata": {},
     "output_type": "execute_result"
    }
   ],
   "source": [
    "df.head()"
   ]
  },
  {
   "cell_type": "code",
   "execution_count": 47,
   "id": "a67f2cf6",
   "metadata": {},
   "outputs": [
    {
     "name": "stdout",
     "output_type": "stream",
     "text": [
      "<class 'pandas.core.frame.DataFrame'>\n",
      "RangeIndex: 1338 entries, 0 to 1337\n",
      "Data columns (total 7 columns):\n",
      " #   Column    Non-Null Count  Dtype  \n",
      "---  ------    --------------  -----  \n",
      " 0   age       1338 non-null   int64  \n",
      " 1   sex       1338 non-null   object \n",
      " 2   bmi       1338 non-null   float64\n",
      " 3   children  1338 non-null   int64  \n",
      " 4   smoker    1338 non-null   object \n",
      " 5   region    1338 non-null   object \n",
      " 6   expenses  1338 non-null   float64\n",
      "dtypes: float64(2), int64(2), object(3)\n",
      "memory usage: 73.3+ KB\n"
     ]
    }
   ],
   "source": [
    "df.info()"
   ]
  },
  {
   "cell_type": "markdown",
   "id": "c0edb3f7",
   "metadata": {},
   "source": [
    "# fill null values"
   ]
  },
  {
   "cell_type": "code",
   "execution_count": 48,
   "id": "612e0bfa",
   "metadata": {},
   "outputs": [
    {
     "data": {
      "text/plain": [
       "age         0\n",
       "sex         0\n",
       "bmi         0\n",
       "children    0\n",
       "smoker      0\n",
       "region      0\n",
       "expenses    0\n",
       "dtype: int64"
      ]
     },
     "execution_count": 48,
     "metadata": {},
     "output_type": "execute_result"
    }
   ],
   "source": [
    "df.isna().sum()"
   ]
  },
  {
   "cell_type": "code",
   "execution_count": 49,
   "id": "9f4bcdec",
   "metadata": {},
   "outputs": [],
   "source": [
    "# lw l2yt null values b3mlha imputation >> filling y3ni \n",
    "from sklearn.impute import SimpleImputer"
   ]
  },
  {
   "cell_type": "code",
   "execution_count": 50,
   "id": "9cb07ffe",
   "metadata": {},
   "outputs": [],
   "source": [
    "# lw numerical data\n",
    "mean_imputer = SimpleImputer(strategy = 'mean' , missing_values = np.nan) \n",
    "# lw catigroical\n",
    "mode_imputer = SimpleImputer(strategy = 'most_frequent' , missing_values = np.nan) "
   ]
  },
  {
   "cell_type": "code",
   "execution_count": 51,
   "id": "7d5a153e",
   "metadata": {},
   "outputs": [],
   "source": [
    "# numeric\n",
    "df['age'] = mean_imputer.fit_transform(df['age'].values.reshape(-1,1))\n",
    "# categorical\n",
    "# df['region'] = mode_imputer.fit_transform(df['region'].values.reshape(-1,1))"
   ]
  },
  {
   "cell_type": "code",
   "execution_count": 52,
   "id": "9bef9f7b",
   "metadata": {},
   "outputs": [],
   "source": [
    "from sklearn.preprocessing import LabelEncoder,OneHotEncoder"
   ]
  },
  {
   "cell_type": "code",
   "execution_count": 53,
   "id": "053f530a",
   "metadata": {},
   "outputs": [],
   "source": [
    "le = LabelEncoder()"
   ]
  },
  {
   "cell_type": "code",
   "execution_count": 54,
   "id": "977d3026",
   "metadata": {},
   "outputs": [],
   "source": [
    "df['sex'] = le.fit_transform(df['sex'])\n",
    "df['smoker'] = le.fit_transform(df['smoker'])"
   ]
  },
  {
   "cell_type": "code",
   "execution_count": 58,
   "id": "af54d6bf",
   "metadata": {},
   "outputs": [
    {
     "data": {
      "text/html": [
       "<div>\n",
       "<style scoped>\n",
       "    .dataframe tbody tr th:only-of-type {\n",
       "        vertical-align: middle;\n",
       "    }\n",
       "\n",
       "    .dataframe tbody tr th {\n",
       "        vertical-align: top;\n",
       "    }\n",
       "\n",
       "    .dataframe thead th {\n",
       "        text-align: right;\n",
       "    }\n",
       "</style>\n",
       "<table border=\"1\" class=\"dataframe\">\n",
       "  <thead>\n",
       "    <tr style=\"text-align: right;\">\n",
       "      <th></th>\n",
       "      <th>age</th>\n",
       "      <th>sex</th>\n",
       "      <th>bmi</th>\n",
       "      <th>children</th>\n",
       "      <th>smoker</th>\n",
       "      <th>expenses</th>\n",
       "      <th>region_northwest</th>\n",
       "      <th>region_southeast</th>\n",
       "      <th>region_southwest</th>\n",
       "    </tr>\n",
       "  </thead>\n",
       "  <tbody>\n",
       "    <tr>\n",
       "      <th>0</th>\n",
       "      <td>19.0</td>\n",
       "      <td>0</td>\n",
       "      <td>27.9</td>\n",
       "      <td>0</td>\n",
       "      <td>1</td>\n",
       "      <td>16884.92</td>\n",
       "      <td>0</td>\n",
       "      <td>0</td>\n",
       "      <td>1</td>\n",
       "    </tr>\n",
       "    <tr>\n",
       "      <th>1</th>\n",
       "      <td>18.0</td>\n",
       "      <td>1</td>\n",
       "      <td>33.8</td>\n",
       "      <td>1</td>\n",
       "      <td>0</td>\n",
       "      <td>1725.55</td>\n",
       "      <td>0</td>\n",
       "      <td>1</td>\n",
       "      <td>0</td>\n",
       "    </tr>\n",
       "    <tr>\n",
       "      <th>2</th>\n",
       "      <td>28.0</td>\n",
       "      <td>1</td>\n",
       "      <td>33.0</td>\n",
       "      <td>3</td>\n",
       "      <td>0</td>\n",
       "      <td>4449.46</td>\n",
       "      <td>0</td>\n",
       "      <td>1</td>\n",
       "      <td>0</td>\n",
       "    </tr>\n",
       "    <tr>\n",
       "      <th>3</th>\n",
       "      <td>33.0</td>\n",
       "      <td>1</td>\n",
       "      <td>22.7</td>\n",
       "      <td>0</td>\n",
       "      <td>0</td>\n",
       "      <td>21984.47</td>\n",
       "      <td>1</td>\n",
       "      <td>0</td>\n",
       "      <td>0</td>\n",
       "    </tr>\n",
       "    <tr>\n",
       "      <th>4</th>\n",
       "      <td>32.0</td>\n",
       "      <td>1</td>\n",
       "      <td>28.9</td>\n",
       "      <td>0</td>\n",
       "      <td>0</td>\n",
       "      <td>3866.86</td>\n",
       "      <td>1</td>\n",
       "      <td>0</td>\n",
       "      <td>0</td>\n",
       "    </tr>\n",
       "    <tr>\n",
       "      <th>...</th>\n",
       "      <td>...</td>\n",
       "      <td>...</td>\n",
       "      <td>...</td>\n",
       "      <td>...</td>\n",
       "      <td>...</td>\n",
       "      <td>...</td>\n",
       "      <td>...</td>\n",
       "      <td>...</td>\n",
       "      <td>...</td>\n",
       "    </tr>\n",
       "    <tr>\n",
       "      <th>1333</th>\n",
       "      <td>50.0</td>\n",
       "      <td>1</td>\n",
       "      <td>31.0</td>\n",
       "      <td>3</td>\n",
       "      <td>0</td>\n",
       "      <td>10600.55</td>\n",
       "      <td>1</td>\n",
       "      <td>0</td>\n",
       "      <td>0</td>\n",
       "    </tr>\n",
       "    <tr>\n",
       "      <th>1334</th>\n",
       "      <td>18.0</td>\n",
       "      <td>0</td>\n",
       "      <td>31.9</td>\n",
       "      <td>0</td>\n",
       "      <td>0</td>\n",
       "      <td>2205.98</td>\n",
       "      <td>0</td>\n",
       "      <td>0</td>\n",
       "      <td>0</td>\n",
       "    </tr>\n",
       "    <tr>\n",
       "      <th>1335</th>\n",
       "      <td>18.0</td>\n",
       "      <td>0</td>\n",
       "      <td>36.9</td>\n",
       "      <td>0</td>\n",
       "      <td>0</td>\n",
       "      <td>1629.83</td>\n",
       "      <td>0</td>\n",
       "      <td>1</td>\n",
       "      <td>0</td>\n",
       "    </tr>\n",
       "    <tr>\n",
       "      <th>1336</th>\n",
       "      <td>21.0</td>\n",
       "      <td>0</td>\n",
       "      <td>25.8</td>\n",
       "      <td>0</td>\n",
       "      <td>0</td>\n",
       "      <td>2007.95</td>\n",
       "      <td>0</td>\n",
       "      <td>0</td>\n",
       "      <td>1</td>\n",
       "    </tr>\n",
       "    <tr>\n",
       "      <th>1337</th>\n",
       "      <td>61.0</td>\n",
       "      <td>0</td>\n",
       "      <td>29.1</td>\n",
       "      <td>0</td>\n",
       "      <td>1</td>\n",
       "      <td>29141.36</td>\n",
       "      <td>1</td>\n",
       "      <td>0</td>\n",
       "      <td>0</td>\n",
       "    </tr>\n",
       "  </tbody>\n",
       "</table>\n",
       "<p>1338 rows × 9 columns</p>\n",
       "</div>"
      ],
      "text/plain": [
       "       age  sex   bmi  children  smoker  expenses  region_northwest  \\\n",
       "0     19.0    0  27.9         0       1  16884.92                 0   \n",
       "1     18.0    1  33.8         1       0   1725.55                 0   \n",
       "2     28.0    1  33.0         3       0   4449.46                 0   \n",
       "3     33.0    1  22.7         0       0  21984.47                 1   \n",
       "4     32.0    1  28.9         0       0   3866.86                 1   \n",
       "...    ...  ...   ...       ...     ...       ...               ...   \n",
       "1333  50.0    1  31.0         3       0  10600.55                 1   \n",
       "1334  18.0    0  31.9         0       0   2205.98                 0   \n",
       "1335  18.0    0  36.9         0       0   1629.83                 0   \n",
       "1336  21.0    0  25.8         0       0   2007.95                 0   \n",
       "1337  61.0    0  29.1         0       1  29141.36                 1   \n",
       "\n",
       "      region_southeast  region_southwest  \n",
       "0                    0                 1  \n",
       "1                    1                 0  \n",
       "2                    1                 0  \n",
       "3                    0                 0  \n",
       "4                    0                 0  \n",
       "...                ...               ...  \n",
       "1333                 0                 0  \n",
       "1334                 0                 0  \n",
       "1335                 1                 0  \n",
       "1336                 0                 1  \n",
       "1337                 0                 0  \n",
       "\n",
       "[1338 rows x 9 columns]"
      ]
     },
     "execution_count": 58,
     "metadata": {},
     "output_type": "execute_result"
    }
   ],
   "source": [
    "# dy m3a el one hot encoder ely fyh fe elcolumn kza value zy el region\n",
    "df = pd.get_dummies(df,drop_first =True)\n",
    "\n",
    "# Specify the columns to convert\n",
    "columns_to_convert = ['region_northwest', 'region_southeast','region_southwest']\n",
    "\n",
    "# Convert Boolean values to integers for the specified columns\n",
    "df[columns_to_convert] = df[columns_to_convert].astype(int)\n",
    "\n",
    "df\n"
   ]
  },
  {
   "cell_type": "markdown",
   "id": "79698b86",
   "metadata": {},
   "source": [
    "# Scaleing "
   ]
  },
  {
   "cell_type": "code",
   "execution_count": 59,
   "id": "49195a01",
   "metadata": {},
   "outputs": [],
   "source": [
    "# lazam tb3n afsl e inputs 3n el output abl el scaling\n",
    "x = df.drop(\"expenses\",axis=1)\n",
    "y = df['expenses']"
   ]
  },
  {
   "cell_type": "code",
   "execution_count": 60,
   "id": "47053392",
   "metadata": {},
   "outputs": [],
   "source": [
    "from sklearn.preprocessing import MinMaxScaler"
   ]
  },
  {
   "cell_type": "code",
   "execution_count": 61,
   "id": "72975613",
   "metadata": {},
   "outputs": [],
   "source": [
    "mxc = MinMaxScaler()"
   ]
  },
  {
   "cell_type": "code",
   "execution_count": 62,
   "id": "852a8f00",
   "metadata": {},
   "outputs": [],
   "source": [
    "x_scl  = mxc.fit_transform(x)"
   ]
  },
  {
   "cell_type": "code",
   "execution_count": 63,
   "id": "4402d603",
   "metadata": {},
   "outputs": [
    {
     "data": {
      "text/plain": [
       "array([[0.02173913, 0.        , 0.32075472, ..., 0.        , 0.        ,\n",
       "        1.        ],\n",
       "       [0.        , 1.        , 0.47978437, ..., 0.        , 1.        ,\n",
       "        0.        ],\n",
       "       [0.2173913 , 1.        , 0.45822102, ..., 0.        , 1.        ,\n",
       "        0.        ],\n",
       "       ...,\n",
       "       [0.        , 0.        , 0.56334232, ..., 0.        , 1.        ,\n",
       "        0.        ],\n",
       "       [0.06521739, 0.        , 0.26415094, ..., 0.        , 0.        ,\n",
       "        1.        ],\n",
       "       [0.93478261, 0.        , 0.35309973, ..., 1.        , 0.        ,\n",
       "        0.        ]])"
      ]
     },
     "execution_count": 63,
     "metadata": {},
     "output_type": "execute_result"
    }
   ],
   "source": [
    "x_scl"
   ]
  },
  {
   "cell_type": "markdown",
   "id": "f104b6c2",
   "metadata": {},
   "source": [
    "# multi linear Regression 3la el data dy"
   ]
  },
  {
   "cell_type": "code",
   "execution_count": 64,
   "id": "8b77b10b",
   "metadata": {},
   "outputs": [],
   "source": [
    "from sklearn.linear_model import LinearRegression\n",
    "from sklearn.metrics import r2_score"
   ]
  },
  {
   "cell_type": "code",
   "execution_count": 65,
   "id": "04bfe7da",
   "metadata": {},
   "outputs": [],
   "source": [
    "lr = LinearRegression()"
   ]
  },
  {
   "cell_type": "code",
   "execution_count": 66,
   "id": "451a529e",
   "metadata": {},
   "outputs": [
    {
     "name": "stdout",
     "output_type": "stream",
     "text": [
      "0.7509284662058436\n"
     ]
    }
   ],
   "source": [
    "lr.fit(x_scl,y)\n",
    "preds = lr.predict(x_scl)\n",
    "print(r2_score(y,preds))"
   ]
  },
  {
   "cell_type": "code",
   "execution_count": 67,
   "id": "6b3d2131",
   "metadata": {},
   "outputs": [],
   "source": [
    "from sklearn.preprocessing import PolynomialFeatures\n",
    "poly = PolynomialFeatures(degree = 3)"
   ]
  },
  {
   "cell_type": "code",
   "execution_count": 68,
   "id": "0db0ae71",
   "metadata": {},
   "outputs": [],
   "source": [
    "x_poly = poly.fit_transform(x_scl)"
   ]
  },
  {
   "cell_type": "code",
   "execution_count": 69,
   "id": "7da52dca",
   "metadata": {},
   "outputs": [
    {
     "name": "stdout",
     "output_type": "stream",
     "text": [
      "0.8574867264444506\n"
     ]
    }
   ],
   "source": [
    "lr.fit(x_poly,y)\n",
    "preds = lr.predict(x_poly)\n",
    "print(r2_score(y,preds))"
   ]
  },
  {
   "cell_type": "markdown",
   "id": "2205f0f2",
   "metadata": {},
   "source": [
    "# Model evaluation and splitting the data"
   ]
  },
  {
   "cell_type": "code",
   "execution_count": 70,
   "id": "41dc6c0a",
   "metadata": {},
   "outputs": [],
   "source": [
    "from sklearn.model_selection import train_test_split"
   ]
  },
  {
   "cell_type": "code",
   "execution_count": 71,
   "id": "dfa1abc3",
   "metadata": {},
   "outputs": [],
   "source": [
    "x_train,x_test,y_train,y_test = train_test_split(x,y,test_size = 0.2)"
   ]
  },
  {
   "cell_type": "code",
   "execution_count": 72,
   "id": "19a03273",
   "metadata": {},
   "outputs": [
    {
     "name": "stdout",
     "output_type": "stream",
     "text": [
      "0.7611011625035501\n",
      "0.7123765832631331\n"
     ]
    }
   ],
   "source": [
    "lr.fit(x_train,y_train)\n",
    "train_preds = lr.predict(x_train)\n",
    "test_preds = lr.predict(x_test)\n",
    "print(r2_score(y_train,train_preds))  # ntygt 3l training data\n",
    "print(r2_score(y_test,test_preds))    #   ntygt fe el test"
   ]
  },
  {
   "cell_type": "code",
   "execution_count": 73,
   "id": "21b7c862",
   "metadata": {},
   "outputs": [],
   "source": [
    "x_train,x_test,y_train,y_test = train_test_split(x_poly,y,test_size = 0.2)"
   ]
  },
  {
   "cell_type": "code",
   "execution_count": 74,
   "id": "4fe479c1",
   "metadata": {},
   "outputs": [
    {
     "name": "stdout",
     "output_type": "stream",
     "text": [
      "0.8466410542829408\n",
      "0.8052940664126147\n"
     ]
    }
   ],
   "source": [
    "#3la polynomial \n",
    "lr.fit(x_train,y_train)\n",
    "train_preds = lr.predict(x_train)\n",
    "test_preds = lr.predict(x_test)\n",
    "print(r2_score(y_train,train_preds))  # ntygt 3l training data\n",
    "print(r2_score(y_test,test_preds))\n",
    "\n",
    "# gab ntyga a7sn hna lma 3mlna el polynomial"
   ]
  },
  {
   "cell_type": "code",
   "execution_count": null,
   "id": "0437d876",
   "metadata": {},
   "outputs": [],
   "source": []
  },
  {
   "cell_type": "markdown",
   "id": "4ca6e4e3",
   "metadata": {},
   "source": [
    "Choosing between label encoding and one-hot encoding depends on the nature of the categorical data and the specific requirements of the machine learning model you are using. Here's a guide on when to use each:\n",
    "\n",
    "Label Encoding\n",
    "Definition: Label encoding converts categorical values into numerical values by assigning a unique integer to each category.\n",
    "\n",
    "Use Cases:\n",
    "\n",
    "Ordinal Data: When the categorical data has an inherent order or ranking (e.g., \"low\", \"medium\", \"high\"), label encoding is appropriate because it preserves the order.\n",
    "Example: ['low', 'medium', 'high'] could be encoded as [0, 1, 2].\n",
    "Tree-Based Models: Decision trees, random forests, and gradient boosting models (e.g., XGBoost, LightGBM) can handle label-encoded data effectively because they can split the data based on the encoded labels without assuming any ordinal relationship.\n",
    "Efficiency: When dealing with a large number of categories, label encoding can be more memory-efficient compared to one-hot encoding.\n"
   ]
  },
  {
   "cell_type": "markdown",
   "id": "346581a4",
   "metadata": {},
   "source": [
    "One-Hot Encoding\n",
    "Definition: One-hot encoding converts each category into a new binary column, where only one column will have a value of 1, and the rest will be 0.\n",
    "\n",
    "Use Cases:\n",
    "\n",
    "Nominal Data: When the categorical data has no inherent order or ranking (e.g., colors, types of animals), one-hot encoding is appropriate because it treats each category as equally important.\n",
    "Example: ['red', 'green', 'blue'] becomes [1, 0, 0], [0, 1, 0], [0, 0, 1].\n",
    "Non-Tree-Based Models: Linear models, neural networks, and other models that may interpret label-encoded data as ordinal can benefit from one-hot encoding to prevent incorrect assumptions about the relationships between categories.\n",
    "Avoiding Ordinal Relationships: When you want to ensure that the model does not assume any order or ranking between categories."
   ]
  },
  {
   "cell_type": "markdown",
   "id": "ba6ae855",
   "metadata": {},
   "source": [
    "Key Differences Between One-Hot Encoding and Get dummies\n",
    "Library:\n",
    "\n",
    "One-Hot Encoding: Typically implemented using scikit-learn.\n",
    "get_dummies: Implemented using pandas.\n",
    "Output Format:\n",
    "\n",
    "One-Hot Encoding: Can produce a sparse matrix.\n",
    "get_dummies: Produces a pandas DataFrame.\n",
    "Usage:\n",
    "\n",
    "One-Hot Encoding: More flexible and can be used as part of a preprocessing pipeline in scikit-learn.\n",
    "get_dummies: Convenient for quick and easy conversion within pandas DataFrames, especially when performing exploratory data analysis.\n",
    "Handling of Column Names:\n",
    "\n",
    "One-Hot Encoding: Requires additional steps to manage column names if needed.\n",
    "get_dummies: Automatically handles column names, making it easier to integrate back into the original DataFrame.\n",
    "Summary\n",
    "Use OneHotEncoder when working within a scikit-learn pipeline or when you need a sparse matrix for memory efficiency.\n",
    "Use pd.get_dummies for quick and easy encoding within pandas DataFrames, especially during data exploration and preparation steps."
   ]
  },
  {
   "cell_type": "markdown",
   "id": "8a5d5706",
   "metadata": {},
   "source": []
  }
 ],
 "metadata": {
  "kernelspec": {
   "display_name": "Python 3 (ipykernel)",
   "language": "python",
   "name": "python3"
  },
  "language_info": {
   "codemirror_mode": {
    "name": "ipython",
    "version": 3
   },
   "file_extension": ".py",
   "mimetype": "text/x-python",
   "name": "python",
   "nbconvert_exporter": "python",
   "pygments_lexer": "ipython3",
   "version": "3.12.0"
  }
 },
 "nbformat": 4,
 "nbformat_minor": 5
}
